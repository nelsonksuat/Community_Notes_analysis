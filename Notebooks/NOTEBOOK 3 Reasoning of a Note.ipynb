{
 "cells": [
  {
   "cell_type": "code",
   "execution_count": null,
   "id": "4cadf2db",
   "metadata": {},
   "outputs": [],
   "source": [
    "# Welcome to NOTEBOOK 3: Reasoning of a Note dataset\n",
    "\n",
    "# This notebook will show the distribution of reasoning for a proposed Note in the dataset.\n",
    "\n",
    "# It will compare Notes citing a European fact-checker against a Notes citing other sources.\n",
    "\n",
    "import pandas as pd\n",
    "\n",
    "df = pd.read_csv(# # input file path to Notes dataset clean_4)"
   ]
  },
  {
   "cell_type": "code",
   "execution_count": null,
   "id": "c3fb97a4",
   "metadata": {},
   "outputs": [],
   "source": [
    "# Filter notes citing European fact-checkers\n",
    "european_fact_checker_notes = df[(df['noteFromEFCSN'] == 1) | (df['noteFromEDMO'] == 1)]\n",
    "\n",
    "# Filter notes citing other sources\n",
    "other_source_notes = df[(df['noteFromEFCSN'] == 0) & (df['noteFromEDMO'] == 0)]\n",
    "\n",
    "# Select columns with reasons for proposing a note (indices 3 to 14)\n",
    "reason_columns = df.columns[3:15]\n",
    "\n",
    "# Calculate the distribution of reasons for European fact-checker notes\n",
    "european_distribution = european_fact_checker_notes[reason_columns].sum()\n",
    "\n",
    "# Calculate the distribution of reasons for other source notes\n",
    "other_distribution = other_source_notes[reason_columns].sum()\n",
    "\n",
    "# Normalize the distributions to percentages\n",
    "european_distribution_percentage = (european_distribution / european_distribution.sum()) * 100\n",
    "other_distribution_percentage = (other_distribution / other_distribution.sum()) * 100\n",
    "\n",
    "# Display the distributions\n",
    "print(\"Distribution of reasons for European fact-checker notes:\")\n",
    "print(european_distribution_percentage)\n",
    "\n",
    "print(\"\\nDistribution of reasons for other source notes:\")\n",
    "print(other_distribution_percentage)"
   ]
  },
  {
   "cell_type": "code",
   "execution_count": null,
   "id": "4cfd0739",
   "metadata": {},
   "outputs": [],
   "source": [
    "import numpy as np\n",
    "from sklearn.preprocessing import MinMaxScaler\n",
    "import matplotlib.pyplot as plt\n",
    "\n",
    "# Combine the two distributions into a DataFrame for easier plotting\n",
    "comparison_df = pd.DataFrame({\n",
    "    'European Fact-Checker Notes': european_distribution_percentage,\n",
    "    'Other Source Notes': other_distribution_percentage\n",
    "})\n",
    "\n",
    "# Normalize the data for better visualization (optional)\n",
    "scaler = MinMaxScaler()\n",
    "normalized_data = scaler.fit_transform(comparison_df)\n",
    "comparison_df_normalized = pd.DataFrame(normalized_data, columns=comparison_df.columns, index=comparison_df.index)\n",
    "\n",
    "# Plot the data\n",
    "x = np.arange(len(comparison_df.index))  # the label locations\n",
    "width = 0.35  # the width of the bars\n",
    "\n",
    "fig, ax = plt.subplots(figsize=(12, 6))\n",
    "bars1 = ax.bar(x - width/2, comparison_df['European Fact-Checker Notes'], width, label='European Fact-Checker Notes')\n",
    "bars2 = ax.bar(x + width/2, comparison_df['Other Source Notes'], width, label='Other Source Notes')\n",
    "\n",
    "# Add labels, title, and legend\n",
    "ax.set_xlabel('Reasons')\n",
    "ax.set_ylabel('Percentage')\n",
    "ax.set_title('Comparison of Reasons for Notes')\n",
    "ax.set_xticks(x)\n",
    "ax.set_xticklabels(comparison_df.index, rotation=45, ha='right')\n",
    "ax.legend()\n",
    "\n",
    "# Add value annotations on top of the bars\n",
    "for bars in [bars1, bars2]:\n",
    "    for bar in bars:\n",
    "        height = bar.get_height()\n",
    "        ax.annotate(f'{height:.1f}',\n",
    "                    xy=(bar.get_x() + bar.get_width() / 2, height),\n",
    "                    xytext=(0, 3),  # 3 points vertical offset\n",
    "                    textcoords=\"offset points\",\n",
    "                    ha='center', va='bottom')\n",
    "\n",
    "plt.tight_layout()\n",
    "plt.show()"
   ]
  }
 ],
 "metadata": {
  "kernelspec": {
   "display_name": ".venv",
   "language": "python",
   "name": "python3"
  },
  "language_info": {
   "codemirror_mode": {
    "name": "ipython",
    "version": 3
   },
   "file_extension": ".py",
   "mimetype": "text/x-python",
   "name": "python",
   "nbconvert_exporter": "python",
   "pygments_lexer": "ipython3",
   "version": "3.11.0"
  }
 },
 "nbformat": 4,
 "nbformat_minor": 5
}
