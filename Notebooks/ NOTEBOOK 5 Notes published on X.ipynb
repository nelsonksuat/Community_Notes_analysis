{
 "cells": [
  {
   "cell_type": "code",
   "execution_count": null,
   "id": "24bf2d7e",
   "metadata": {},
   "outputs": [],
   "source": [
    "# Welcom to NOTEBOOK 5: Notes published on X\n",
    "\n",
    "# In this notebook we will analyze the amount of Notes citing European fact-checkers that are published on X against the Notes citing other sources.\n",
    "\n",
    "import pandas as pd\n",
    "\n",
    "df_notes = pd.read_csv(# input file path to Notes dataset clean_4)\n",
    "\n",
    "df_notes_status_history = pd.read_csv(# input file path Note Status Histoy dataset clean_2)\n",
    "\n",
    "df_notes.info()\n",
    "df_notes_status_history.info()"
   ]
  },
  {
   "cell_type": "code",
   "execution_count": null,
   "id": "b59aad84",
   "metadata": {},
   "outputs": [],
   "source": [
    "# We merge the Notes dataset with the Notes Status History dataset based on 'noteId'.\n",
    "\n",
    "df_notes_status_history = df_notes_status_history.merge(\n",
    "    df_notes[['noteId', 'noteFromEFCSN', 'noteFromEDMO', 'noteFromOtherSource']], \n",
    "    on='noteId', \n",
    "    how='left'\n",
    ")\n",
    "\n",
    "df_notes_status_history.info()\n",
    "df_notes_status_history.head()\n"
   ]
  },
  {
   "cell_type": "code",
   "execution_count": null,
   "id": "38e553fa",
   "metadata": {},
   "outputs": [],
   "source": [
    "df_notes_status_history = df_notes_status_history.dropna(subset=['noteFromEFCSN', 'noteFromEDMO', 'noteFromOtherSource'])\n",
    "df_notes_status_history.info()"
   ]
  },
  {
   "cell_type": "code",
   "execution_count": null,
   "id": "b9599157",
   "metadata": {},
   "outputs": [],
   "source": [
    "# Visualize the distribution of note statuses for Notes citing EFCSN or EDMO sources\n",
    "\n",
    "import matplotlib.pyplot as plt\n",
    "\n",
    "# Filter ratings for EFCSN or EDMO notes\n",
    "df_efcsn_edmo = df_notes_status_history[\n",
    "    (df_notes_status_history['noteFromEFCSN'] == 1) | \n",
    "    (df_notes_status_history['noteFromEDMO'] == 1)\n",
    "]\n",
    "# Calculate the percentage distribution\n",
    "status_distribution = df_efcsn_edmo['currentStatus'].value_counts(normalize=True) * 100\n",
    "\n",
    "# Create a pie chart\n",
    "plt.figure(figsize=(10, 8))\n",
    "plt.pie(status_distribution, labels=status_distribution.index, autopct='%1.1f%%')\n",
    "plt.title('Distribution of Note Status (EFCSN/EDMO Notes)')\n",
    "plt.axis('equal')\n",
    "plt.show()\n"
   ]
  },
  {
   "cell_type": "code",
   "execution_count": null,
   "id": "c3dd35b3",
   "metadata": {},
   "outputs": [],
   "source": [
    "# Visualize the distribution of note statuses for Notes citing other sources.\n",
    "\n",
    "import matplotlib.pyplot as plt\n",
    "\n",
    "# Filter ratings for EFCSN or EDMO notes\n",
    "df_efcsn_edmo = df_notes_status_history[\n",
    "    (df_notes_status_history['noteFromOtherSource'] == 1) \n",
    "]\n",
    "# Calculate the percentage distribution\n",
    "status_distribution = df_efcsn_edmo['currentStatus'].value_counts(normalize=True) * 100\n",
    "\n",
    "# Create a pie chart\n",
    "plt.figure(figsize=(10, 8))\n",
    "plt.pie(status_distribution, labels=status_distribution.index, autopct='%1.1f%%')\n",
    "plt.title('Distribution of Note Status (Other Source Notes)')\n",
    "plt.axis('equal')\n",
    "plt.show()"
   ]
  }
 ],
 "metadata": {
  "kernelspec": {
   "display_name": ".venv",
   "language": "python",
   "name": "python3"
  },
  "language_info": {
   "codemirror_mode": {
    "name": "ipython",
    "version": 3
   },
   "file_extension": ".py",
   "mimetype": "text/x-python",
   "name": "python",
   "nbconvert_exporter": "python",
   "pygments_lexer": "ipython3",
   "version": "3.11.0"
  }
 },
 "nbformat": 4,
 "nbformat_minor": 5
}
