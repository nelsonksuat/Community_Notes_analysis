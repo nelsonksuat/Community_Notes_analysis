{
 "cells": [
  {
   "cell_type": "code",
   "execution_count": null,
   "id": "729161d4",
   "metadata": {},
   "outputs": [],
   "source": [
    "# Welcome to NOTEBOOK 4: Perception of Notes citing European fact-checkers\n",
    "\n",
    "# In this notebook based on the Ratings dataset, merged with the Notes dataset to show the perception of notes citing European fact-checkers against Notes citing other sources.\n",
    "\n",
    "import pandas as pd\n",
    "\n",
    "df_notes = pd.read_csv(# input file path to Notes dataset clean_4)\n",
    "\n",
    "df_ratings = pd.read_csv(# input file path Ratings dataset clean_2)\n",
    "\n",
    "df_notes.info()\n",
    "df_ratings.info()"
   ]
  },
  {
   "cell_type": "code",
   "execution_count": null,
   "id": "1e8b3162",
   "metadata": {},
   "outputs": [],
   "source": [
    "# We merge the Notes dataset with the Ratings dataset based on 'noteId'.\n",
    "\n",
    "df_ratings = df_ratings.merge(\n",
    "    df_notes[['noteId', 'noteFromEFCSN', 'noteFromEDMO', 'noteFromOtherSource']], \n",
    "    on='noteId', \n",
    "    how='left'\n",
    ")\n",
    "\n",
    "df_ratings.info()\n",
    "df_ratings.head()"
   ]
  },
  {
   "cell_type": "code",
   "execution_count": null,
   "id": "19eec16f",
   "metadata": {},
   "outputs": [],
   "source": [
    "# The next 4 code cells will visualize the perception of notes citing European fact-checkers against notes citing other sources.\n",
    "\n",
    "import matplotlib.pyplot as plt\n",
    "\n",
    "# Filter ratings for EFCSN or EDMO notes\n",
    "df_efcsn_edmo = df_ratings[\n",
    "    (df_ratings['noteFromEFCSN'] == 1) | \n",
    "    (df_ratings['noteFromEDMO'] == 1)\n",
    "]\n",
    "\n",
    "# Calculate helpfulness distribution\n",
    "helpfulness_counts = df_efcsn_edmo['helpfulnessLevel'].value_counts()\n",
    "total = len(df_efcsn_edmo)\n",
    "\n",
    "helpfulness_percentages = [\n",
    "    (helpfulness_counts['HELPFUL'] / total * 100),\n",
    "    (helpfulness_counts['NOT_HELPFUL'] / total * 100),\n",
    "    (helpfulness_counts['SOMEWHAT_HELPFUL'] / total * 100)\n",
    "]\n",
    "\n",
    "plt.figure(figsize=(8, 8))\n",
    "plt.pie(helpfulness_percentages, \n",
    "        labels=['Helpful', 'Not Helpful', 'Somewhat Helpful'],\n",
    "        colors=['#66b3ff', '#ff9999', '#99ff99'],\n",
    "        autopct='%1.1f%%')\n",
    "plt.title('Helpfulness Distribution of EFCSN/EDMO Notes')\n",
    "plt.show()\n"
   ]
  },
  {
   "cell_type": "code",
   "execution_count": null,
   "id": "a3acd465",
   "metadata": {},
   "outputs": [],
   "source": [
    "import matplotlib.pyplot as plt\n",
    "\n",
    "df_other = df_ratings[\n",
    "    (df_ratings['noteFromOtherSource'] == 1)  \n",
    "]\n",
    "\n",
    "\n",
    "# Calculate helpfulness distribution for notes from other sources\n",
    "helpfulness_counts = filtered_df_other['helpfulnessLevel'].value_counts()\n",
    "total = len(filtered_df_other)\n",
    "helpfulness_percentages = [\n",
    "    (helpfulness_counts['HELPFUL'] / total * 100),\n",
    "    (helpfulness_counts['NOT_HELPFUL'] / total * 100),\n",
    "    (helpfulness_counts['SOMEWHAT_HELPFUL'] / total * 100)\n",
    "]\n",
    "\n",
    "plt.figure(figsize=(8, 8))\n",
    "plt.pie(helpfulness_percentages, \n",
    "        labels=['Helpful', 'Not Helpful', 'Somewhat Helpful'],\n",
    "        colors=['#66b3ff', '#ff9999', '#99ff99'],\n",
    "        autopct='%1.1f%%')\n",
    "plt.title('Helpfulness Distribution of other notes')\n",
    "plt.show()"
   ]
  },
  {
   "cell_type": "code",
   "execution_count": null,
   "id": "0d685c77",
   "metadata": {},
   "outputs": [],
   "source": [
    "# Filter for EFCSN/EDMO notes and calculate percentage of helpfulGoodSources\n",
    "df_sources = df_ratings[\n",
    "    (df_ratings['noteFromEFCSN'] == 1) | \n",
    "    (df_ratings['noteFromEDMO'] == 1)\n",
    "]\n",
    "\n",
    "good_sources_count = df_sources['helpfulGoodSources'].sum()\n",
    "total_count = len(df_sources)\n",
    "good_sources_pct = good_sources_count / total_count * 100\n",
    "\n",
    "plt.figure(figsize=(8, 8))\n",
    "plt.pie([good_sources_pct, 100-good_sources_pct],\n",
    "        labels=['Good Source', 'Bad Source'],\n",
    "        colors=['#66b3ff', '#ff9999'],\n",
    "        autopct='%1.1f%%')\n",
    "plt.title('Percentage of Good Sources in EFCSN/EDMO Notes')\n",
    "plt.show()"
   ]
  },
  {
   "cell_type": "code",
   "execution_count": null,
   "id": "36573b18",
   "metadata": {},
   "outputs": [],
   "source": [
    "# Filter for EFCSN/EDMO notes and calculate percentage of helpfulGoodSources\n",
    "df_sources = df_ratings[\n",
    "    (df_ratings['noteFromOtherSource'] == 1)\n",
    "]\n",
    "\n",
    "good_sources_count = df_sources['helpfulGoodSources'].sum()\n",
    "total_count = len(df_sources)\n",
    "good_sources_pct = good_sources_count / total_count * 100\n",
    "\n",
    "plt.figure(figsize=(8, 8))\n",
    "plt.pie([good_sources_pct, 100-good_sources_pct],\n",
    "        labels=['Good Source', 'Bad Source'],\n",
    "        colors=['#66b3ff', '#ff9999'],\n",
    "        autopct='%1.1f%%')\n",
    "plt.title('Percentage of Good Sources in other sources')\n",
    "plt.show()"
   ]
  }
 ],
 "metadata": {
  "kernelspec": {
   "display_name": ".venv",
   "language": "python",
   "name": "python3"
  },
  "language_info": {
   "codemirror_mode": {
    "name": "ipython",
    "version": 3
   },
   "file_extension": ".py",
   "mimetype": "text/x-python",
   "name": "python",
   "nbconvert_exporter": "python",
   "pygments_lexer": "ipython3",
   "version": "3.11.0"
  }
 },
 "nbformat": 4,
 "nbformat_minor": 5
}
