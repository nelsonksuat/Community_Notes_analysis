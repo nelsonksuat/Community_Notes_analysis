{
 "cells": [
  {
   "cell_type": "code",
   "execution_count": 3,
   "id": "a4deea17",
   "metadata": {},
   "outputs": [
    {
     "name": "stderr",
     "output_type": "stream",
     "text": [
      "C:\\Users\\nelso\\AppData\\Local\\Temp\\ipykernel_18768\\4253458873.py:6: ParserWarning: Falling back to the 'python' engine because the 'c' engine does not support regex separators (separators > 1 char and different from '\\s+' are interpreted as regex); you can avoid this warning by specifying engine='python'.\n",
      "  df_notes_dataset = pd.read_csv(file_path, sep='\\\\t')\n"
     ]
    },
    {
     "data": {
      "text/html": [
       "<div>\n",
       "<style scoped>\n",
       "    .dataframe tbody tr th:only-of-type {\n",
       "        vertical-align: middle;\n",
       "    }\n",
       "\n",
       "    .dataframe tbody tr th {\n",
       "        vertical-align: top;\n",
       "    }\n",
       "\n",
       "    .dataframe thead th {\n",
       "        text-align: right;\n",
       "    }\n",
       "</style>\n",
       "<table border=\"1\" class=\"dataframe\">\n",
       "  <thead>\n",
       "    <tr style=\"text-align: right;\">\n",
       "      <th></th>\n",
       "      <th>noteId</th>\n",
       "      <th>createdAtMillis</th>\n",
       "      <th>classification</th>\n",
       "      <th>misleadingOther</th>\n",
       "      <th>misleadingFactualError</th>\n",
       "      <th>misleadingManipulatedMedia</th>\n",
       "      <th>misleadingOutdatedInformation</th>\n",
       "      <th>misleadingMissingImportantContext</th>\n",
       "      <th>misleadingUnverifiedClaimAsFact</th>\n",
       "      <th>misleadingSatire</th>\n",
       "      <th>notMisleadingOther</th>\n",
       "      <th>notMisleadingFactuallyCorrect</th>\n",
       "      <th>notMisleadingOutdatedButNotWhenWritten</th>\n",
       "      <th>notMisleadingClearlySatire</th>\n",
       "      <th>notMisleadingPersonalOpinion</th>\n",
       "      <th>trustworthySources</th>\n",
       "      <th>summary</th>\n",
       "    </tr>\n",
       "  </thead>\n",
       "  <tbody>\n",
       "    <tr>\n",
       "      <th>0</th>\n",
       "      <td>1783179305159200982</td>\n",
       "      <td>1713978050878</td>\n",
       "      <td>MISINFORMED_OR_POTENTIALLY_MISLEADING</td>\n",
       "      <td>0</td>\n",
       "      <td>0</td>\n",
       "      <td>0</td>\n",
       "      <td>0</td>\n",
       "      <td>1</td>\n",
       "      <td>0</td>\n",
       "      <td>0</td>\n",
       "      <td>0</td>\n",
       "      <td>0</td>\n",
       "      <td>0</td>\n",
       "      <td>0</td>\n",
       "      <td>0</td>\n",
       "      <td>1</td>\n",
       "      <td>The House failed to pass a border protection l...</td>\n",
       "    </tr>\n",
       "    <tr>\n",
       "      <th>1</th>\n",
       "      <td>1783181538789605871</td>\n",
       "      <td>1713978583415</td>\n",
       "      <td>MISINFORMED_OR_POTENTIALLY_MISLEADING</td>\n",
       "      <td>0</td>\n",
       "      <td>1</td>\n",
       "      <td>0</td>\n",
       "      <td>0</td>\n",
       "      <td>0</td>\n",
       "      <td>1</td>\n",
       "      <td>0</td>\n",
       "      <td>0</td>\n",
       "      <td>0</td>\n",
       "      <td>0</td>\n",
       "      <td>0</td>\n",
       "      <td>0</td>\n",
       "      <td>1</td>\n",
       "      <td>The United States has 50 States     https://da...</td>\n",
       "    </tr>\n",
       "    <tr>\n",
       "      <th>2</th>\n",
       "      <td>1783182562279494134</td>\n",
       "      <td>1713978827435</td>\n",
       "      <td>MISINFORMED_OR_POTENTIALLY_MISLEADING</td>\n",
       "      <td>0</td>\n",
       "      <td>0</td>\n",
       "      <td>0</td>\n",
       "      <td>0</td>\n",
       "      <td>1</td>\n",
       "      <td>0</td>\n",
       "      <td>0</td>\n",
       "      <td>0</td>\n",
       "      <td>0</td>\n",
       "      <td>0</td>\n",
       "      <td>0</td>\n",
       "      <td>0</td>\n",
       "      <td>1</td>\n",
       "      <td>TikTok only mentions “ban” and chooses to igno...</td>\n",
       "    </tr>\n",
       "    <tr>\n",
       "      <th>3</th>\n",
       "      <td>1883711635770196070</td>\n",
       "      <td>1737946826294</td>\n",
       "      <td>MISINFORMED_OR_POTENTIALLY_MISLEADING</td>\n",
       "      <td>1</td>\n",
       "      <td>0</td>\n",
       "      <td>0</td>\n",
       "      <td>0</td>\n",
       "      <td>0</td>\n",
       "      <td>0</td>\n",
       "      <td>0</td>\n",
       "      <td>0</td>\n",
       "      <td>0</td>\n",
       "      <td>0</td>\n",
       "      <td>0</td>\n",
       "      <td>0</td>\n",
       "      <td>1</td>\n",
       "      <td>This could be considered a threat     https://...</td>\n",
       "    </tr>\n",
       "    <tr>\n",
       "      <th>4</th>\n",
       "      <td>1537142913737428992</td>\n",
       "      <td>1655318404027</td>\n",
       "      <td>MISINFORMED_OR_POTENTIALLY_MISLEADING</td>\n",
       "      <td>0</td>\n",
       "      <td>1</td>\n",
       "      <td>0</td>\n",
       "      <td>0</td>\n",
       "      <td>1</td>\n",
       "      <td>1</td>\n",
       "      <td>0</td>\n",
       "      <td>0</td>\n",
       "      <td>0</td>\n",
       "      <td>0</td>\n",
       "      <td>0</td>\n",
       "      <td>0</td>\n",
       "      <td>1</td>\n",
       "      <td>Forbes has a good rundown of the investigation...</td>\n",
       "    </tr>\n",
       "  </tbody>\n",
       "</table>\n",
       "</div>"
      ],
      "text/plain": [
       "                noteId  createdAtMillis  \\\n",
       "0  1783179305159200982    1713978050878   \n",
       "1  1783181538789605871    1713978583415   \n",
       "2  1783182562279494134    1713978827435   \n",
       "3  1883711635770196070    1737946826294   \n",
       "4  1537142913737428992    1655318404027   \n",
       "\n",
       "                          classification  misleadingOther  \\\n",
       "0  MISINFORMED_OR_POTENTIALLY_MISLEADING                0   \n",
       "1  MISINFORMED_OR_POTENTIALLY_MISLEADING                0   \n",
       "2  MISINFORMED_OR_POTENTIALLY_MISLEADING                0   \n",
       "3  MISINFORMED_OR_POTENTIALLY_MISLEADING                1   \n",
       "4  MISINFORMED_OR_POTENTIALLY_MISLEADING                0   \n",
       "\n",
       "   misleadingFactualError  misleadingManipulatedMedia  \\\n",
       "0                       0                           0   \n",
       "1                       1                           0   \n",
       "2                       0                           0   \n",
       "3                       0                           0   \n",
       "4                       1                           0   \n",
       "\n",
       "   misleadingOutdatedInformation  misleadingMissingImportantContext  \\\n",
       "0                              0                                  1   \n",
       "1                              0                                  0   \n",
       "2                              0                                  1   \n",
       "3                              0                                  0   \n",
       "4                              0                                  1   \n",
       "\n",
       "   misleadingUnverifiedClaimAsFact  misleadingSatire  notMisleadingOther  \\\n",
       "0                                0                 0                   0   \n",
       "1                                1                 0                   0   \n",
       "2                                0                 0                   0   \n",
       "3                                0                 0                   0   \n",
       "4                                1                 0                   0   \n",
       "\n",
       "   notMisleadingFactuallyCorrect  notMisleadingOutdatedButNotWhenWritten  \\\n",
       "0                              0                                       0   \n",
       "1                              0                                       0   \n",
       "2                              0                                       0   \n",
       "3                              0                                       0   \n",
       "4                              0                                       0   \n",
       "\n",
       "   notMisleadingClearlySatire  notMisleadingPersonalOpinion  \\\n",
       "0                           0                             0   \n",
       "1                           0                             0   \n",
       "2                           0                             0   \n",
       "3                           0                             0   \n",
       "4                           0                             0   \n",
       "\n",
       "   trustworthySources                                            summary  \n",
       "0                   1  The House failed to pass a border protection l...  \n",
       "1                   1  The United States has 50 States     https://da...  \n",
       "2                   1  TikTok only mentions “ban” and chooses to igno...  \n",
       "3                   1  This could be considered a threat     https://...  \n",
       "4                   1  Forbes has a good rundown of the investigation...  "
      ]
     },
     "execution_count": 3,
     "metadata": {},
     "output_type": "execute_result"
    }
   ],
   "source": [
    "import pandas as pd\n",
    "\n",
    "\n",
    "# Load a .tsv file into a DataFrame\n",
    "file_path = r'C:\\Users\\nelso\\Documents\\Master Thesis\\method_i\\notes_dataset.tsv'  \n",
    "df_notes_dataset = pd.read_csv(file_path, sep='\\\\t')\n",
    "\n",
    "\n",
    "# Remove columns by their indexes\n",
    "columns_to_remove = [1, 3, 5, 6, 7, 22]  \n",
    "df_notes_dataset = df_notes_dataset.drop(df_notes_dataset.columns[columns_to_remove], axis=1)\n",
    "\n",
    "# Display the updated DataFrame\n",
    "df_notes_dataset.head()"
   ]
  },
  {
   "cell_type": "code",
   "execution_count": 4,
   "id": "f3ad3066",
   "metadata": {},
   "outputs": [
    {
     "name": "stderr",
     "output_type": "stream",
     "text": [
      "C:\\Users\\nelso\\AppData\\Local\\Temp\\ipykernel_18768\\1423693206.py:3: ParserWarning: Falling back to the 'python' engine because the 'c' engine does not support regex separators (separators > 1 char and different from '\\s+' are interpreted as regex); you can avoid this warning by specifying engine='python'.\n",
      "  df_status_history_dataset = pd.read_csv(file_path, sep='\\\\t')\n"
     ]
    },
    {
     "name": "stdout",
     "output_type": "stream",
     "text": [
      "<class 'pandas.core.frame.DataFrame'>\n",
      "RangeIndex: 2022401 entries, 0 to 2022400\n",
      "Data columns (total 3 columns):\n",
      " #   Column           Dtype \n",
      "---  ------           ----- \n",
      " 0   noteId           int64 \n",
      " 1   createdAtMillis  int64 \n",
      " 2   currentStatus    object\n",
      "dtypes: int64(2), object(1)\n",
      "memory usage: 46.3+ MB\n"
     ]
    }
   ],
   "source": [
    "# Load a .tsv file into a DataFrame\n",
    "file_path = r'C:\\Users\\nelso\\Documents\\Master Thesis\\method_i\\note_status_history_dataset.tsv'  \n",
    "df_status_history_dataset = pd.read_csv(file_path, sep='\\\\t')\n",
    "\n",
    "\n",
    "# Remove columns by their indexes\n",
    "columns_to_remove = [1, 3, 4, 5, 7, 8, 9, 10, 11, 12, 13, 14, 15, 16, 17, 18, 19, 20, 21, 22]  # Replace with the indexes of the columns you want to remove\n",
    "df_status_history_dataset = df_status_history_dataset.drop(df_status_history_dataset.columns[columns_to_remove], axis=1)\n",
    "\n",
    "# Display the updated DataFrame\n",
    "df_status_history_dataset.info()"
   ]
  },
  {
   "cell_type": "code",
   "execution_count": 5,
   "id": "942dbb68",
   "metadata": {},
   "outputs": [
    {
     "name": "stderr",
     "output_type": "stream",
     "text": [
      "C:\\Users\\nelso\\AppData\\Local\\Temp\\ipykernel_18768\\750029628.py:3: ParserWarning: Falling back to the 'python' engine because the 'c' engine does not support regex separators (separators > 1 char and different from '\\s+' are interpreted as regex); you can avoid this warning by specifying engine='python'.\n",
      "  df_ratings_dataset = pd.read_csv(file_path, sep='\\\\t')\n"
     ]
    },
    {
     "name": "stdout",
     "output_type": "stream",
     "text": [
      "<class 'pandas.core.frame.DataFrame'>\n",
      "RangeIndex: 13394025 entries, 0 to 13394024\n",
      "Data columns (total 10 columns):\n",
      " #   Column                                Dtype \n",
      "---  ------                                ----- \n",
      " 0   noteId                                int64 \n",
      " 1   createdAtMillis                       int64 \n",
      " 2   agree                                 int64 \n",
      " 3   disagree                              int64 \n",
      " 4   helpfulnessLevel                      object\n",
      " 5   helpfulGoodSources                    int64 \n",
      " 6   helpfulImportantContext               int64 \n",
      " 7   notHelpfulSourcesMissingOrUnreliable  int64 \n",
      " 8   notHelpfulOpinionSpeculationOrBias    int64 \n",
      " 9   notHelpfulHardToUnderstand            int64 \n",
      "dtypes: int64(9), object(1)\n",
      "memory usage: 1021.9+ MB\n"
     ]
    }
   ],
   "source": [
    "# Load a .tsv file into a DataFrame\n",
    "file_path = r'C:\\Users\\nelso\\Documents\\Master Thesis\\method_i\\ratings_dataset.tsv'  \n",
    "df_ratings_dataset = pd.read_csv(file_path, sep='\\\\t')\n",
    "\n",
    "\n",
    "# Remove columns by their indexes\n",
    "columns_to_remove = [1, 3, 6, 7, 9, 10, 11, 12, 14, 15, 17, 18, 19, 22, 23, 25, 26, 27, 28, 29, 30, 31] \n",
    "df_ratings_dataset = df_ratings_dataset.drop(df_ratings_dataset.columns[columns_to_remove], axis=1)\n",
    "\n",
    "# Display the updated DataFrame\n",
    "df_ratings_dataset.info()"
   ]
  },
  {
   "cell_type": "code",
   "execution_count": 6,
   "id": "f625fceb",
   "metadata": {},
   "outputs": [],
   "source": [
    "df_notes_dataset.to_csv(r'C:\\Users\\nelso\\Documents\\Master Thesis\\method_i\\notes_dataset_cleaned_v1.csv', index=False)\n",
    "df_status_history_dataset.to_csv(r'C:\\Users\\nelso\\Documents\\Master Thesis\\method_i\\note_status_history_dataset_cleaned_v1.csv', index=False)\n",
    "df_ratings_dataset.to_csv(r'C:\\Users\\nelso\\Documents\\Master Thesis\\method_i\\ratings_dataset_cleaned_v1.csv', index=False)"
   ]
  },
  {
   "cell_type": "code",
   "execution_count": 7,
   "id": "2439d49d",
   "metadata": {},
   "outputs": [
    {
     "name": "stdout",
     "output_type": "stream",
     "text": [
      "Total overlapping note_id values across all three datasets: 1277455\n",
      "Overlapping note_id values between notes and status history: 1770937\n",
      "Overlapping note_id values between notes and ratings: 1277711\n",
      "Overlapping note_id values between status history and ratings: 1417645\n"
     ]
    }
   ],
   "source": [
    "# Ensure the note_id column exists in all datasets\n",
    "note_ids_notes = set(df_notes_dataset['noteId'])\n",
    "note_ids_status_history = set(df_status_history_dataset['noteId'])\n",
    "note_ids_ratings = set(df_ratings_dataset['noteId'])\n",
    "\n",
    "# Find overlapping note_id values across the three datasets\n",
    "overlap_all = note_ids_notes & note_ids_status_history & note_ids_ratings\n",
    "overlap_notes_status = note_ids_notes & note_ids_status_history\n",
    "overlap_notes_ratings = note_ids_notes & note_ids_ratings\n",
    "overlap_status_ratings = note_ids_status_history & note_ids_ratings\n",
    "\n",
    "# Print the results\n",
    "print(f\"Total overlapping note_id values across all three datasets: {len(overlap_all)}\")\n",
    "print(f\"Overlapping note_id values between notes and status history: {len(overlap_notes_status)}\")\n",
    "print(f\"Overlapping note_id values between notes and ratings: {len(overlap_notes_ratings)}\")\n",
    "print(f\"Overlapping note_id values between status history and ratings: {len(overlap_status_ratings)}\")"
   ]
  },
  {
   "cell_type": "code",
   "execution_count": 8,
   "id": "716cd0ea",
   "metadata": {},
   "outputs": [
    {
     "name": "stdout",
     "output_type": "stream",
     "text": [
      "Filtered df_notes_dataset: (1277455, 17)\n",
      "Filtered df_status_history_dataset: (1277455, 3)\n",
      "Filtered df_ratings_dataset: (12269794, 10)\n"
     ]
    }
   ],
   "source": [
    "# Find the intersection of noteId values across all three datasets\n",
    "common_note_ids = set(df_notes_dataset['noteId']) & set(df_status_history_dataset['noteId']) & set(df_ratings_dataset['noteId'])\n",
    "\n",
    "# Filter each dataset to keep only rows with noteId values in the intersection\n",
    "df_notes_dataset = df_notes_dataset[df_notes_dataset['noteId'].isin(common_note_ids)]\n",
    "df_status_history_dataset = df_status_history_dataset[df_status_history_dataset['noteId'].isin(common_note_ids)]\n",
    "df_ratings_dataset = df_ratings_dataset[df_ratings_dataset['noteId'].isin(common_note_ids)]\n",
    "\n",
    "# Display the updated DataFrames\n",
    "print(f\"Filtered df_notes_dataset: {df_notes_dataset.shape}\")\n",
    "print(f\"Filtered df_status_history_dataset: {df_status_history_dataset.shape}\")\n",
    "print(f\"Filtered df_ratings_dataset: {df_ratings_dataset.shape}\")"
   ]
  },
  {
   "cell_type": "code",
   "execution_count": 9,
   "id": "276d412f",
   "metadata": {},
   "outputs": [],
   "source": [
    "df_notes_dataset.to_csv(r'C:\\Users\\nelso\\Documents\\Master Thesis\\method_i\\notes_dataset_cleaned_v2.csv', index=False)\n",
    "df_status_history_dataset.to_csv(r'C:\\Users\\nelso\\Documents\\Master Thesis\\method_i\\note_status_history_dataset_cleaned_v2.csv', index=False)\n",
    "df_ratings_dataset.to_csv(r'C:\\Users\\nelso\\Documents\\Master Thesis\\method_i\\ratings_dataset_cleaned_v2.csv', index=False)"
   ]
  },
  {
   "cell_type": "code",
   "execution_count": 10,
   "id": "4d62045c",
   "metadata": {},
   "outputs": [],
   "source": [
    "df_notes = pd.read_csv(r'C:\\Users\\nelso\\Documents\\Master Thesis\\method_i\\notes_dataset_cleaned_v2.csv')\n",
    "df_status_history = pd.read_csv(r'C:\\Users\\nelso\\Documents\\Master Thesis\\method_i\\note_status_history_dataset_cleaned_v2.csv')\n",
    "df_ratings = pd.read_csv(r'C:\\Users\\nelso\\Documents\\Master Thesis\\method_i\\ratings_dataset_cleaned_v2.csv')"
   ]
  },
  {
   "cell_type": "code",
   "execution_count": 11,
   "id": "890da7aa",
   "metadata": {},
   "outputs": [
    {
     "name": "stdout",
     "output_type": "stream",
     "text": [
      "Filtered df_notes_dataset: (992918, 17)\n",
      "Filtered df_status_history_dataset: (992918, 3)\n",
      "Filtered df_ratings_dataset: (9983058, 10)\n"
     ]
    }
   ],
   "source": [
    "# Define the timestamp for the start of 2024 (in milliseconds)\n",
    "start_of_2024 = 1704067200000  # January 1, 2024, in milliseconds\n",
    "\n",
    "# Filter df_notes_dataset\n",
    "df_notes['createdAtMillis'] = pd.to_numeric(df_notes['createdAtMillis'], errors='coerce')\n",
    "df_notes = df_notes[df_notes['createdAtMillis'] >= start_of_2024]\n",
    "\n",
    "# Filter df_status_history_dataset\n",
    "df_status_history['createdAtMillis'] = pd.to_numeric(df_status_history ['createdAtMillis'], errors='coerce')\n",
    "df_status_history = df_status_history [df_status_history ['createdAtMillis'] >= start_of_2024]\n",
    "\n",
    "# Filter df_ratings_dataset\n",
    "df_ratings['createdAtMillis'] = pd.to_numeric(df_ratings['createdAtMillis'], errors='coerce')\n",
    "df_ratings = df_ratings[df_ratings['createdAtMillis'] >= start_of_2024]\n",
    "\n",
    "# Display the updated DataFrames\n",
    "print(f\"Filtered df_notes_dataset: {df_notes.shape}\")\n",
    "print(f\"Filtered df_status_history_dataset: {df_status_history.shape}\")\n",
    "print(f\"Filtered df_ratings_dataset: {df_ratings.shape}\")"
   ]
  },
  {
   "cell_type": "code",
   "execution_count": 12,
   "id": "ae3b98ca",
   "metadata": {},
   "outputs": [],
   "source": [
    "df_notes.to_csv(r'C:\\Users\\nelso\\Documents\\Master Thesis\\method_i\\notes_dataset_cleaned_v3.csv', index=False)\n",
    "df_status_history.to_csv(r'C:\\Users\\nelso\\Documents\\Master Thesis\\method_i\\note_status_history_dataset_cleaned_v3.csv', index=False)\n",
    "df_ratings.to_csv(r'C:\\Users\\nelso\\Documents\\Master Thesis\\method_i\\ratings_dataset_cleaned_v3.csv', index=False)"
   ]
  }
 ],
 "metadata": {
  "kernelspec": {
   "display_name": ".venv",
   "language": "python",
   "name": "python3"
  },
  "language_info": {
   "codemirror_mode": {
    "name": "ipython",
    "version": 3
   },
   "file_extension": ".py",
   "mimetype": "text/x-python",
   "name": "python",
   "nbconvert_exporter": "python",
   "pygments_lexer": "ipython3",
   "version": "3.11.0"
  }
 },
 "nbformat": 4,
 "nbformat_minor": 5
}
